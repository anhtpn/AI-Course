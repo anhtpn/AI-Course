{
  "nbformat": 4,
  "nbformat_minor": 0,
  "metadata": {
    "colab": {
      "name": "AI-midterm-1d",
      "provenance": [],
      "collapsed_sections": [
        "cEbSEyQjtS8x",
        "zyBLMU23TluX",
        "pPVFXAz_Ytpy",
        "kNhLhoDsXaSs"
      ],
      "authorship_tag": "ABX9TyNOr4An9wPx9BFcPh0RffIH"
    },
    "kernelspec": {
      "name": "python3",
      "display_name": "Python 3"
    },
    "language_info": {
      "name": "python"
    }
  },
  "cells": [
    {
      "cell_type": "markdown",
      "metadata": {
        "id": "cEbSEyQjtS8x"
      },
      "source": [
        "## **Bài 1**\n"
      ]
    },
    {
      "cell_type": "code",
      "metadata": {
        "colab": {
          "base_uri": "https://localhost:8080/",
          "height": 531
        },
        "id": "oV-XrPGXucKh",
        "outputId": "8e51c135-6bd6-4203-a184-e7f5c207be8b"
      },
      "source": [
        "from __future__ import division, print_function, unicode_literals\n",
        "import numpy as np \n",
        "import matplotlib.pyplot as plt\n",
        "\n",
        "#x = np.array([[7.79667589, 2.79825217, 2.06174503, 4.4713877 , 7.20443649, 7.36014312, 4.70688117,-0.40338389, 4.72266607, 1.20453709, 6.07593449, 7.69651292, 3.89733971, 4.7856351,-0.59932188, 4.1507473, 0.04186784, 4.89562846, 2.38650347, 6.42758034]]).T\n",
        "#y = np.array([[318.28185696,  20.48143891,  11.97873995,   7.56902114, 224.15497306, 235.04403786,  17.75040067,-107.86335911, 1.1140603, -7.67492972, 87.4263873, 293.22569099, -11.49557421,  6.4415876,-152.88870565, -4.95755333,-79.53431819, 34.97246059, -4.50098315, 95.09276699]]).T\n",
        "\n",
        "x = [7.79667589, 2.79825217, 2.06174503, 4.4713877 , 7.20443649, 7.36014312, 4.70688117,-0.40338389, 4.72266607, 1.20453709, 6.07593449, 7.69651292, 3.89733971, 4.7856351,-0.59932188, 4.1507473, 0.04186784, 4.89562846, 2.38650347, 6.42758034]\n",
        "y = [318.28185696,  20.48143891,  11.97873995,   7.56902114, 224.15497306, 235.04403786,  17.75040067,-107.86335911, 1.1140603, -7.67492972, 87.4263873, 293.22569099, -11.49557421,  6.4415876,-152.88870565, -4.95755333,-79.53431819, 34.97246059, -4.50098315, 95.09276699]\n",
        "\n",
        "# Visualize data \n",
        "plt.plot(X, y, 'ro')\n",
        "plt.scatter(x, y)\n",
        "plt.show()\n",
        "\n",
        "mymodel = np.poly1d(np.polyfit(x, y, 3))\n",
        "print('w =',np.polyfit(x, y, 3))\n",
        "myline = np.linspace(-1, 8, 100)\n",
        "plt.plot(X, y, 'ro')\n",
        "plt.scatter(x, y)\n",
        "plt.plot(myline, mymodel(myline))\n",
        "plt.show()"
      ],
      "execution_count": null,
      "outputs": [
        {
          "output_type": "display_data",
          "data": {
            "image/png": "[encoded data removed]",
            "text/plain": [
              "<Figure size 432x288 with 1 Axes>"
            ]
          },
          "metadata": {
            "tags": [],
            "needs_background": "light"
          }
        },
        {
          "output_type": "stream",
          "text": [
            "w = [  3.2448925  -30.20029032  89.30840541 -78.75403971]\n"
          ],
          "name": "stdout"
        },
        {
          "output_type": "display_data",
          "data": {
            "image/png": "[encoded data removed]",
            "text/plain": [
              "<Figure size 432x288 with 1 Axes>"
            ]
          },
          "metadata": {
            "tags": [],
            "needs_background": "light"
          }
        }
      ]
    },
    {
      "cell_type": "markdown",
      "metadata": {
        "id": "zyBLMU23TluX"
      },
      "source": [
        "# **Bài 2**"
      ]
    },
    {
      "cell_type": "code",
      "metadata": {
        "id": "iA17vW1NTpEt",
        "colab": {
          "base_uri": "https://localhost:8080/",
          "height": 265
        },
        "outputId": "ff5e1afc-f972-4f62-f24a-147aafb1766a"
      },
      "source": [
        "from __future__ import division, print_function, unicode_literals\n",
        "import numpy as np \n",
        "import matplotlib.pyplot as plt\n",
        "np.random.seed(2)\n",
        "\n",
        "X = np.array([[0.50, 0.75, 1.00, 1.25, 1.50, 1.75, 1.75, 2.00, 2.25, 2.50, \n",
        "              2.75, 3.00, 3.25, 3.50, 4.00, 4.25, 4.50, 4.75, 5.00, 5.50]])\n",
        "y = np.array([1, 1, 1, 1, 1, 1, 0, 1, 0, 1, 0, 1, 0, 1, 0, 0, 0, 0, 0, 0])\n",
        "plt.scatter(X, y)\n",
        "# extended data \n",
        "X = np.concatenate((np.ones((1, X.shape[1])), X), axis = 0)"
      ],
      "execution_count": null,
      "outputs": [
        {
          "output_type": "display_data",
          "data": {
            "image/png": "[encoded data removed]",
            "text/plain": [
              "<Figure size 432x288 with 1 Axes>"
            ]
          },
          "metadata": {
            "tags": [],
            "needs_background": "light"
          }
        }
      ]
    },
    {
      "cell_type": "code",
      "metadata": {
        "colab": {
          "base_uri": "https://localhost:8080/"
        },
        "id": "WmCslxZ5PmLS",
        "outputId": "6c5f65a1-1639-40dc-b927-7d992f3a2bf1"
      },
      "source": [
        "def sigmoid(s):\n",
        "    return 1/(1 + np.exp(-s))\n",
        "\n",
        "def logistic_sigmoid_regression(X, y, w_init, eta, tol = 1e-4, max_count = 10000):\n",
        "    w = [w_init]    \n",
        "    it = 0\n",
        "    N = X.shape[1]\n",
        "    d = X.shape[0]\n",
        "    count = 0\n",
        "    check_w_after = 20\n",
        "    while count < max_count:\n",
        "        # mix data \n",
        "        mix_id = np.random.permutation(N)\n",
        "        for i in mix_id:\n",
        "            xi = X[:, i].reshape(d, 1)\n",
        "            yi = y[i]\n",
        "            zi = sigmoid(np.dot(w[-1].T, xi))\n",
        "            w_new = w[-1] + eta*(yi - zi)*xi\n",
        "            count += 1\n",
        "            # stopping criteria\n",
        "            if count%check_w_after == 0:                \n",
        "                if np.linalg.norm(w_new - w[-check_w_after]) < tol:\n",
        "                    return w\n",
        "            w.append(w_new)\n",
        "    return w\n",
        "eta = .05 \n",
        "d = X.shape[0]\n",
        "w_init = np.random.randn(d, 1)\n",
        "\n",
        "w = logistic_sigmoid_regression(X, y, w_init, eta)\n",
        "print(w[-1])"
      ],
      "execution_count": null,
      "outputs": [
        {
          "output_type": "stream",
          "text": [
            "[[ 4.08160737]\n",
            " [-1.59762962]]\n"
          ],
          "name": "stdout"
        }
      ]
    },
    {
      "cell_type": "code",
      "metadata": {
        "colab": {
          "base_uri": "https://localhost:8080/",
          "height": 279
        },
        "id": "6gIoSYI3Pu4J",
        "outputId": "6c079e93-d4aa-4f5c-bc40-0471b8a625bd"
      },
      "source": [
        "X0 = X[1, np.where(y == 0)][0]\n",
        "y0 = y[np.where(y == 0)]\n",
        "X1 = X[1, np.where(y == 1)][0]\n",
        "y1 = y[np.where(y == 1)]\n",
        "\n",
        "plt.plot(X0, y0, 'ro', markersize = 8)\n",
        "plt.plot(X1, y1, 'bs', markersize = 8)\n",
        "\n",
        "xx = np.linspace(0, 6, 1000)\n",
        "w0 = w[-1][0][0]\n",
        "w1 = w[-1][1][0]\n",
        "threshold = -w0/w1\n",
        "yy = sigmoid(w0 + w1*xx)\n",
        "#plt.axis([-2, 8, -1, 2])\n",
        "plt.plot(xx, yy, 'g-', linewidth = 2)\n",
        "plt.plot(threshold, .5, 'y^', markersize = 8)\n",
        "plt.xlabel('Giá nhà')\n",
        "plt.ylabel('Dự đoán xác suất quyết định mua nhà')\n",
        "plt.show()"
      ],
      "execution_count": null,
      "outputs": [
        {
          "output_type": "display_data",
          "data": {
            "image/png": "[encoded data removed]",
            "text/plain": [
              "<Figure size 432x288 with 1 Axes>"
            ]
          },
          "metadata": {
            "tags": [],
            "needs_background": "light"
          }
        }
      ]
    },
    {
      "cell_type": "markdown",
      "metadata": {
        "id": "pPVFXAz_Ytpy"
      },
      "source": [
        "# **Bài 3**"
      ]
    },
    {
      "cell_type": "code",
      "metadata": {
        "colab": {
          "base_uri": "https://localhost:8080/"
        },
        "id": "Q4SkwhDHYwBi",
        "outputId": "3220dad9-c81f-4146-a551-fcc9704bfcd1"
      },
      "source": [
        "import numpy as np\n",
        "from sklearn.svm import SVC\n",
        "\n",
        "X1 = [[ 1.92306918, 0.775673 ],\n",
        "[ 2.90509186, 1.7997662 ],\n",
        "[ 1.58909188, 1.16143907],\n",
        "[ 2.76874122, 1.07663514],\n",
        "[ 2.52416203, 1.53020387],\n",
        "[ 2.02414192, 1.80692632],\n",
        "[ 2.49174878, 2.62943405],\n",
        "[ 1.11439322, 2.88348991],\n",
        "[ 2.62561276, 2.89077234],\n",
        "[ 3.27183166, 0.75454543],\n",
        "[ 3.55617919, 0.66250438],\n",
        "[ 1.45945603, 2.28222634],\n",
        "[ 2.87575608, 2.52637908],\n",
        "[ 2.30375703, 2.46497356],\n",
        "[ 1.08925412, 2.01982447],\n",
        "[ 4.09096119, -0.08330889],\n",
        "[ 1.80350003, 1.91837255],\n",
        "[ 1.25827634, 1.8856175 ],\n",
        "[ 2.08532169, 1.79005729],\n",
        "[ 1.9340609 , 1.09208652]]\n",
        "y1 = [1, 1, 1, 1, 1,1, 1, 1, 1, 1,1, 1, 1, 1, 1,1, 1, 1, 1, 1]\n",
        "X2 = [[4.49775285, 1.46545116],\n",
        "[3.07311718, 3.76212796],\n",
        "[3.52528933, 1.59844519],\n",
        "[2.39091046, 2.33431976],\n",
        "[3.12302646, 1.41945943],\n",
        "[4.62359547, 2.44921113],\n",
        "[3.38696098, 2.46494505],\n",
        "[4.36167918, 1.88637824],\n",
        "[3.21261415, 2.40558547],\n",
        "[2.71754956, 2.33882965],\n",
        "[4.01073111, 0.96947283],\n",
        "[3.11892586, 4.10522222],\n",
        "[2.29402636, 2.07905375],\n",
        "[3.7365999 , 2.41022672],\n",
        "[4.29699439, 2.79542218],\n",
        "[4.63617269, 2.00962462],\n",
        "[2.84870815, 1.77280105],\n",
        "[4.45368062, 2.44805003],\n",
        "[4.97052399, 1.86194687],\n",
        "[3.01324102, 1.54377016]]\n",
        "y2 = [-1, -1, -1, -1,-1, -1, -1, -1,-1, -1, -1, -1,-1, -1, -1, -1,-1, -1, -1, -1]\n",
        "X = np.array(X1 + X2)\n",
        "y = y1 + y2\n",
        "\n",
        "clf = SVC(kernel='linear', C=5)  #1E10\n",
        "clf.fit(X, y)\n",
        "\n",
        "w_sklearn = clf.coef_.reshape(-1, 1)\n",
        "b_sklearn = clf.intercept_[0]\n",
        "print(w_sklearn.T, b_sklearn)"
      ],
      "execution_count": null,
      "outputs": [
        {
          "output_type": "stream",
          "text": [
            "[[-1.30588089 -1.2587534 ]] 6.22271489929831\n"
          ],
          "name": "stdout"
        }
      ]
    },
    {
      "cell_type": "code",
      "metadata": {
        "colab": {
          "base_uri": "https://localhost:8080/",
          "height": 265
        },
        "id": "7spmO-nLangV",
        "outputId": "882e48f3-9ebd-4ce6-b2fc-75157763c462"
      },
      "source": [
        "import matplotlib.pyplot as plt\n",
        "\n",
        "def plot_svc_decision_function(clf, ax=None, plot_support=True):\n",
        "    \"\"\"Plot the decision function for a 2D SVC\"\"\"\n",
        "    if ax is None:\n",
        "        ax = plt.gca()\n",
        "    xlim = ax.get_xlim()\n",
        "    ylim = ax.get_ylim()\n",
        "\n",
        "    # create grid to evaluate model\n",
        "    x = np.linspace(xlim[0], xlim[1], 30)\n",
        "    y = np.linspace(ylim[0], ylim[1], 30)\n",
        "    Y, X = np.meshgrid(y, x)\n",
        "    xy = np.vstack([X.ravel(), Y.ravel()]).T\n",
        "    P = clf.decision_function(xy).reshape(X.shape)\n",
        "\n",
        "    # plot decision boundary and margins\n",
        "    ax.contour(X, Y, P, colors='k',\n",
        "               levels=[-1, 0, 1], alpha=0.5,\n",
        "               linestyles=['--', '-', '--'])\n",
        "\n",
        "    # plot support vectors\n",
        "    if plot_support:\n",
        "        ax.scatter(clf.support_vectors_[:, 0],\n",
        "                   clf.support_vectors_[:, 1],\n",
        "                   s=300, linewidth=1, facecolors='none');\n",
        "    ax.set_xlim(xlim)\n",
        "    ax.set_ylim(ylim)\n",
        "\n",
        "\n",
        "plt.scatter(X[:, 0], X[:, 1], c=y, s=50, cmap='brg');\n",
        "plot_svc_decision_function(clf)\n",
        "plt.show()"
      ],
      "execution_count": null,
      "outputs": [
        {
          "output_type": "display_data",
          "data": {
            "image/png": "[encoded data removed]",
            "text/plain": [
              "<Figure size 432x288 with 1 Axes>"
            ]
          },
          "metadata": {
            "tags": [],
            "needs_background": "light"
          }
        }
      ]
    },
    {
      "cell_type": "code",
      "metadata": {
        "colab": {
          "base_uri": "https://localhost:8080/"
        },
        "id": "RhKqKnad4fp-",
        "outputId": "1512f2df-0a24-4d44-972a-f311b4278906"
      },
      "source": [
        "from sklearn.model_selection import GridSearchCV\n",
        "\n",
        "parameter_candidates = [\n",
        "  {'C': [0.001, 0.01, 0.1, 1, 5, 100, 1000], 'kernel': ['linear']},\n",
        "]\n",
        "\n",
        "clf = GridSearchCV(estimator=SVC(), param_grid=parameter_candidates, n_jobs=-1)\n",
        "clf.fit(X, y)\n",
        "print('Best score:', clf.best_score_)\n",
        "print('Best C:',clf.best_estimator_.C)"
      ],
      "execution_count": null,
      "outputs": [
        {
          "output_type": "stream",
          "text": [
            "Best score: 0.825\n",
            "Best C: 5\n"
          ],
          "name": "stdout"
        }
      ]
    },
    {
      "cell_type": "markdown",
      "metadata": {
        "id": "kNhLhoDsXaSs"
      },
      "source": [
        "# **Bài 4**"
      ]
    },
    {
      "cell_type": "code",
      "metadata": {
        "id": "6dmkMDGzXcqR"
      },
      "source": [
        "from __future__ import division, print_function, unicode_literals\n",
        "import numpy as np \n",
        "import matplotlib.pyplot as plt\n",
        "\n",
        "from sklearn import datasets, linear_model"
      ],
      "execution_count": null,
      "outputs": []
    },
    {
      "cell_type": "code",
      "metadata": {
        "colab": {
          "base_uri": "https://localhost:8080/",
          "height": 280
        },
        "id": "x0QiXIYw0meg",
        "outputId": "3e28f449-0dd3-4216-e828-48579185e37e"
      },
      "source": [
        "#X = np.array([[147, 150, 153, 158, 163, 165, 168, 170, 173, 175, 178, 180, 183, 184, 150]]).T\n",
        "#y = np.array([[49, 50, 51, 54, 58, 59, 60, 62, 63, 64, 66, 67, 68, 42, 90]]).T\n",
        "\n",
        "X = np.array([[147, 150, 153, 158, 163, 165, 168, 170, 173, 175, 178, 180, 183]]).T\n",
        "y = np.array([[49, 50, 51, 54, 58, 59, 60, 62, 63, 64, 66, 67, 68]]).T\n",
        "# Visualize data \n",
        "plt.plot(X, y, 'ro')\n",
        "#plt.axis([140, 190, 45, 75])\n",
        "plt.xlabel('Chiều cao (cm)')\n",
        "plt.ylabel('Cân nặng (kg)')\n",
        "plt.show()"
      ],
      "execution_count": null,
      "outputs": [
        {
          "output_type": "display_data",
          "data": {
            "image/png": "[encoded data removed]",
            "text/plain": [
              "<Figure size 432x288 with 1 Axes>"
            ]
          },
          "metadata": {
            "tags": [],
            "needs_background": "light"
          }
        }
      ]
    },
    {
      "cell_type": "code",
      "metadata": {
        "colab": {
          "base_uri": "https://localhost:8080/"
        },
        "id": "r1DT9aax0uXn",
        "outputId": "4e31c5f5-ce3f-45e7-9529-f68c893b3210"
      },
      "source": [
        "# Building Xbar \n",
        "one = np.ones((X.shape[0], 1))\n",
        "Xbar = np.concatenate((one, X), axis = 1)\n",
        "b = np.dot(Xbar.T, y)\n",
        "\n",
        "#Linear Regression\n",
        "regr = linear_model.LinearRegression(fit_intercept=False) # fit_intercept = False for calculating the bias\n",
        "regr.fit(Xbar, y)\n",
        "\n",
        "#Results\n",
        "w = regr.coef_\n",
        "print( 'Solution found by scikit-learn  : ', w )"
      ],
      "execution_count": null,
      "outputs": [
        {
          "output_type": "stream",
          "text": [
            "Solution found by scikit-learn  :  [[-33.73541021   0.55920496]]\n"
          ],
          "name": "stdout"
        }
      ]
    },
    {
      "cell_type": "code",
      "metadata": {
        "colab": {
          "base_uri": "https://localhost:8080/",
          "height": 280
        },
        "id": "TjyUgo1B16gh",
        "outputId": "0ba232c1-4cfa-49a7-d496-60bcf2dfac4e"
      },
      "source": [
        "# Preparing the fitting line \n",
        "w_0 = w[0][0]\n",
        "w_1 = w[0][1]\n",
        "x0 = np.linspace(145, 185, 2)\n",
        "y0 = w_0 + w_1*x0\n",
        "\n",
        "# Drawing the fitting line \n",
        "plt.plot(X.T, y.T, 'ro')     # data \n",
        "plt.plot(x0, y0)               # the fitting line\n",
        "#plt.axis([140, 190, 45, 75])\n",
        "plt.xlabel('Chiều cao (cm)')\n",
        "plt.ylabel('Cân nặng (kg)')\n",
        "plt.show()"
      ],
      "execution_count": null,
      "outputs": [
        {
          "output_type": "display_data",
          "data": {
            "image/png": "[encoded data removed]",
            "text/plain": [
              "<Figure size 432x288 with 1 Axes>"
            ]
          },
          "metadata": {
            "tags": [],
            "needs_background": "light"
          }
        }
      ]
    },
    {
      "cell_type": "markdown",
      "metadata": {
        "id": "ez8uFBnBYdhM"
      },
      "source": [
        "# **Bài 5**"
      ]
    },
    {
      "cell_type": "code",
      "metadata": {
        "colab": {
          "base_uri": "https://localhost:8080/"
        },
        "id": "-EcUQABhYhbL",
        "outputId": "5465c576-abdf-4eba-e91c-5e6b2299d5f2"
      },
      "source": [
        "import numpy as np\n",
        "from sklearn.svm import SVC\n",
        "from math import *\n",
        "\n",
        "X1 = [[2.37319011, 1.71875981],\n",
        "[1.51261889, 1.40558943],\n",
        "[2.4696794 , 2.02144973],\n",
        "[1.78736889, 1.29380961],\n",
        "[1.81231157, 1.56119497],\n",
        "[2.03717355, 1.93397133],\n",
        "[1.53790057, 1.87434722],\n",
        "[2.29312867, 2.76537389],\n",
        "[1.38805594, 1.86419379],\n",
        "[1.57279694, 0.90707347]]\n",
        "y1 = [1, 1, 1, 1, 1, 1, 1, 1, 1, 1]\n",
        "X2 = [[3.42746579, 0.71254431],\n",
        "[4.24760864, 2.39846497],\n",
        "[3.33595491, 1.61731637],\n",
        "[3.69420104, 1.94273986],\n",
        "[4.53897645, 2.54957308],\n",
        "[3.3071994 , 0.19362396],\n",
        "[4.13924705, 2.09561534],\n",
        "[4.47383468, 2.41269466],\n",
        "[4.00512009, 1.89290099],\n",
        "[4.28205624, 1.79675607]]\n",
        "y2 = [-1, -1, -1, -1,-1, -1, -1, -1,-1, -1]\n",
        "X = np.array(X1 + X2)\n",
        "y = y1 + y2\n",
        "\n",
        "clf1 = SVC(kernel='linear', C=1E10)\n",
        "clf1.fit(X, y)\n",
        "\n",
        "clf2 = SVC(kernel='linear', C=0.001)\n",
        "clf2.fit(X, y)\n",
        "\n",
        "clf3 = SVC(kernel='linear', C=1)\n",
        "clf3.fit(X, y)\n",
        "\n",
        "w_sklearn = clf3.coef_.reshape(-1, 1)\n",
        "b_sklearn = clf3.intercept_[0]\n",
        "print(w_sklearn.T, b_sklearn)\n",
        "\n",
        "def margin(w):\n",
        "  margin = 2/sqrt(w[0]**2+ w[1]**2)\n",
        "  return margin\n",
        "margin1 = margin(clf1.coef_.reshape(-1, 1))\n",
        "print(margin1)\n",
        "margin2 = margin(clf2.coef_.reshape(-1, 1))\n",
        "print(margin2)\n",
        "margin3 = margin(clf3.coef_.reshape(-1, 1))\n",
        "print(margin3)\n"
      ],
      "execution_count": null,
      "outputs": [
        {
          "output_type": "stream",
          "text": [
            "[[-1.5733851   0.34780067]] 4.136342536959894\n",
            "0.9479816049841574\n",
            "96.76253145886203\n",
            "1.2411816110960245\n"
          ],
          "name": "stdout"
        }
      ]
    },
    {
      "cell_type": "code",
      "metadata": {
        "colab": {
          "base_uri": "https://localhost:8080/"
        },
        "id": "7cXkIztah-cj",
        "outputId": "6fb482ed-7989-4ac8-823c-eb7b062590ea"
      },
      "source": [
        "from sklearn.model_selection import GridSearchCV\n",
        "\n",
        "parameter_candidates = [\n",
        "  {'C': [0.001, 0.01, 0.1, 1, 5, 10, 100, 1000], 'kernel': ['linear']},\n",
        "]\n",
        "\n",
        "clf = GridSearchCV(estimator=SVC(), param_grid=parameter_candidates, n_jobs=-1)\n",
        "clf.fit(X, y)\n",
        "print('Best score:', clf.best_score_)\n",
        "print('Best C:',clf.best_estimator_.C)"
      ],
      "execution_count": null,
      "outputs": [
        {
          "output_type": "stream",
          "text": [
            "Best score: 1.0\n",
            "Best C: 0.001\n"
          ],
          "name": "stdout"
        }
      ]
    },
    {
      "cell_type": "code",
      "metadata": {
        "colab": {
          "base_uri": "https://localhost:8080/",
          "height": 265
        },
        "id": "bgS_3yMahsWt",
        "outputId": "35d36c0e-4857-4568-c0b4-936a6fe903b8"
      },
      "source": [
        "import matplotlib.pyplot as plt\n",
        "\n",
        "def plot_svc_decision_function(clf, ax=None, plot_support=True, label = [] ):\n",
        "    \"\"\"Plot the decision function for a 2D SVC\"\"\"\n",
        "    if ax is None:\n",
        "        ax = plt.gca()\n",
        "    xlim = ax.get_xlim()\n",
        "    ylim = ax.get_ylim()\n",
        "\n",
        "    # create grid to evaluate model\n",
        "    x = np.linspace(xlim[0], xlim[1], 30)\n",
        "    y = np.linspace(ylim[0], ylim[1], 30)\n",
        "    Y, X = np.meshgrid(y, x)\n",
        "    xy = np.vstack([X.ravel(), Y.ravel()]).T\n",
        "    P = clf.decision_function(xy).reshape(X.shape)\n",
        "\n",
        "    # plot decision boundary and margins\n",
        "    ax.contour(X, Y, P, colors='k',levels=[0], alpha=0.5)\n",
        "    \n",
        "    # plot support vectors\n",
        "    if plot_support:\n",
        "        ax.scatter(clf.support_vectors_[:, 0],\n",
        "                   clf.support_vectors_[:, 1],\n",
        "                   s=300, linewidth=1, facecolors='none');\n",
        "    ax.set_xlim(xlim)\n",
        "    ax.set_ylim(ylim)\n",
        "\n",
        "plt.scatter(X[:, 0], X[:, 1], c=y, s=50, cmap='brg')\n",
        "plot_svc_decision_function(clf1)\n",
        "plot_svc_decision_function(clf2)\n",
        "plot_svc_decision_function(clf3)\n",
        "plt.show()"
      ],
      "execution_count": null,
      "outputs": [
        {
          "output_type": "display_data",
          "data": {
            "image/png": "[encoded data removed]",
            "text/plain": [
              "<Figure size 432x288 with 1 Axes>"
            ]
          },
          "metadata": {
            "tags": [],
            "needs_background": "light"
          }
        }
      ]
    }
  ]
}